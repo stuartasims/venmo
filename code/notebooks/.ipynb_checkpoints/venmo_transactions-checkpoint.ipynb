{
 "cells": [
  {
   "cell_type": "markdown",
   "metadata": {},
   "source": [
    "# Venmo Transactional Data\n",
    "\n",
    "    Recently I came across an interesting dataset that was collected using the Venmo API and scraping public transactions on Venmo from July-October 2018 and then again in January-February 2019. A more complete description of the dataset can be found [here, at Sa7mon's github](https://github.com/sa7mon/venmo-data)"
   ]
  },
  {
   "cell_type": "markdown",
   "metadata": {},
   "source": [
    "### Reading in the data\n",
    "\n",
    "The data is stored in binary json, or bson. First, I will read in only a subset of the entire dataset to get started. I'd like to store it in a pandas dataframe and ultimately, export some other aggregations as csv files."
   ]
  },
  {
   "cell_type": "code",
   "execution_count": null,
   "metadata": {},
   "outputs": [],
   "source": [
    "import pandas as pd\n",
    "import bson #dont use pip install bson, use pip install pymongo instead\n",
    "import sys"
   ]
  },
  {
   "cell_type": "code",
   "execution_count": null,
   "metadata": {},
   "outputs": [],
   "source": [
    "# Simple data processing\n",
    "\n",
    "#set the source of the data\n",
    "venmo_transactions = bson.decode_file_iter(\n",
    "    open('F:/Datasets/venmo/venmo.bson', 'rb'))\n",
    "\n",
    "#create empty dict to store items of interest\n",
    "conversion_dict = dict()\n",
    "\n",
    "#loop through transactions and store info of interest\n",
    "\n",
    "stop_at = 300000  #set number of iterations, and therefore records, to process\n",
    "for c, d in enumerate(venmo_transactions):\n",
    "    if d['payment'] != None:\n",
    "        if d['payment']['target'] == None:\n",
    "            target_username = d['payment']['target']['user']['username']\n",
    "            target_user_id = d['payment']['target']['user']['id']\n",
    "        else:\n",
    "            target_username = None\n",
    "            target_user_id = None\n",
    "        target_type = d['payment']['target']['type']\n",
    "        actor_username = d['payment']['actor']['username']\n",
    "        actor_user_id = d['payment']['actor']['id']\n",
    "        note = d['payment']['note']\n",
    "        transaction_id = d['payment']['id']\n",
    "        date_created = d['date_created']\n",
    "        overall_type = d['type']\n",
    "\n",
    "    else:\n",
    "        target_type = None\n",
    "        actor_username = None\n",
    "        actor_user_id = None\n",
    "        note = None\n",
    "        transaction_id = None\n",
    "\n",
    "    record = {\n",
    "        'transaction_id': transaction_id,\n",
    "        'actor_user_id': actor_user_id,\n",
    "        'actor_username': actor_username,\n",
    "        'target_user_id': target_user_id,\n",
    "        'target_username': target_username,\n",
    "        'target_type': target_type,\n",
    "        'overall_type': overall_type,\n",
    "        'transaction_note': note,\n",
    "        'date_created': date_created\n",
    "    }\n",
    "    conversion_dict[c] = record\n",
    "\n",
    "    if c == stop_at:  #exit on stop_at iteration\n",
    "        break\n",
    "\n",
    "#create a dataframe from the dictionary\n",
    "generated_df = pd.DataFrame.from_dict(conversion_dict, orient='index')\n",
    "\n",
    "#export dataframe as csv\n",
    "generated_df.to_csv(\n",
    "    'C:/Users/Stuart/Documents/GitHub/venmo/data/output/smallerdf.csv')"
   ]
  },
  {
   "cell_type": "code",
   "execution_count": null,
   "metadata": {},
   "outputs": [],
   "source": []
  }
 ],
 "metadata": {
  "kernelspec": {
   "display_name": "Python 3",
   "language": "python",
   "name": "python3"
  },
  "language_info": {
   "codemirror_mode": {
    "name": "ipython",
    "version": 3
   },
   "file_extension": ".py",
   "mimetype": "text/x-python",
   "name": "python",
   "nbconvert_exporter": "python",
   "pygments_lexer": "ipython3",
   "version": "3.7.4"
  },
  "toc": {
   "base_numbering": 1,
   "nav_menu": {},
   "number_sections": true,
   "sideBar": true,
   "skip_h1_title": false,
   "title_cell": "Table of Contents",
   "title_sidebar": "Contents",
   "toc_cell": false,
   "toc_position": {
    "height": "calc(100% - 180px)",
    "left": "10px",
    "top": "150px",
    "width": "426.667px"
   },
   "toc_section_display": true,
   "toc_window_display": true
  }
 },
 "nbformat": 4,
 "nbformat_minor": 2
}
